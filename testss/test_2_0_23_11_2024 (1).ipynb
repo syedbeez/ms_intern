{
  "nbformat": 4,
  "nbformat_minor": 0,
  "metadata": {
    "colab": {
      "provenance": []
    },
    "kernelspec": {
      "name": "python3",
      "display_name": "Python 3"
    },
    "language_info": {
      "name": "python"
    }
  },
  "cells": [
    {
      "cell_type": "markdown",
      "source": [
        "PYTHON QUESTION\n",
        "(Solve any 10 Question)\n"
      ],
      "metadata": {
        "id": "It1y_tzoa_kG"
      }
    },
    {
      "cell_type": "code",
      "execution_count": 43,
      "metadata": {
        "colab": {
          "base_uri": "https://localhost:8080/"
        },
        "id": "2eIJhcpUaror",
        "outputId": "12183864-b402-4179-8b8a-ff86348ac71d"
      },
      "outputs": [
        {
          "output_type": "stream",
          "name": "stdout",
          "text": [
            "enter a number : 2\n",
            "The square of 2 is :  4\n"
          ]
        }
      ],
      "source": [
        "#1. Write a Python program using lambda to calculate the square of a number entered by the user.\n",
        "\n",
        "sq=lambda a:a**2\n",
        "a=int(input(\"enter a number : \"))\n",
        "print(f\"The square of {a} is : \",sq(a))"
      ]
    },
    {
      "cell_type": "code",
      "source": [
        "#2. Use map to double all the elements in the list: [1, 2, 3, 4, 5].\n",
        "def double(x):\n",
        "  return x*2\n",
        "my_list=[1,2,3,4,5]\n",
        "doubled=list(map(double,my_list))\n",
        "print(doubled)"
      ],
      "metadata": {
        "colab": {
          "base_uri": "https://localhost:8080/"
        },
        "id": "oO8ptadYbP5z",
        "outputId": "e9b34e70-d297-4117-a9b7-196b670c21ba"
      },
      "execution_count": 2,
      "outputs": [
        {
          "output_type": "stream",
          "name": "stdout",
          "text": [
            "[2, 4, 6, 8, 10]\n"
          ]
        }
      ]
    },
    {
      "cell_type": "code",
      "source": [
        "#3. Use filter to extract all even numbers from the list: [10, 15, 20, 25, 30].\n",
        "\n",
        "def checkeven(x):\n",
        "  if x%2==0:\n",
        "    return True\n",
        "  else:\n",
        "    return False\n",
        "my_list=[10, 15, 20, 25, 30]\n",
        "even_list=list(filter(checkeven,my_list))\n",
        "print(even_list)"
      ],
      "metadata": {
        "colab": {
          "base_uri": "https://localhost:8080/"
        },
        "id": "aV1KJSr6cyZx",
        "outputId": "0a67227e-b245-43c7-a08a-ea051b492133"
      },
      "execution_count": 3,
      "outputs": [
        {
          "output_type": "stream",
          "name": "stdout",
          "text": [
            "[10, 20, 30]\n"
          ]
        }
      ]
    },
    {
      "cell_type": "code",
      "source": [
        "#4. Write a one-liner lambda function to check if a given number is a palindrome.\n",
        "num=int(input(\"enter a number : \"))\n",
        "\n",
        "pal=lambda a:\"palindrome\" if a==a[::-1] else \"not palindrome\"\n",
        "print(pal(str(num)))"
      ],
      "metadata": {
        "colab": {
          "base_uri": "https://localhost:8080/"
        },
        "id": "0j2FyWM-dHUF",
        "outputId": "acb0b564-5a38-4d91-d74c-0224e9d9eee8"
      },
      "execution_count": 5,
      "outputs": [
        {
          "output_type": "stream",
          "name": "stdout",
          "text": [
            "enter a number : 86\n",
            "not palindrome\n"
          ]
        }
      ]
    },
    {
      "cell_type": "code",
      "source": [
        "#5. Write a function that takes a variable number of arguments (*args) and returns their sum.\n",
        "def sum(*arg):\n",
        "  sum=0\n",
        "  for i in arg:\n",
        "    sum+=i\n",
        "  return sum\n",
        "print(sum(1,2,3,4,5))"
      ],
      "metadata": {
        "colab": {
          "base_uri": "https://localhost:8080/"
        },
        "id": "VDCio85NeaMq",
        "outputId": "1a50594d-c93a-4fd3-c491-10c9bc2eb6dc"
      },
      "execution_count": 6,
      "outputs": [
        {
          "output_type": "stream",
          "name": "stdout",
          "text": [
            "15\n"
          ]
        }
      ]
    },
    {
      "cell_type": "code",
      "source": [
        "#6 Write a function that uses **kwargs to accept a student’s details (name, age, and grade) and print them in a formatted string.\n",
        "def stud(**kwargs):\n",
        "  print(kwargs)\n",
        "stud(name=\"ram\",roll=1,branch=\"cse\")"
      ],
      "metadata": {
        "colab": {
          "base_uri": "https://localhost:8080/"
        },
        "id": "rO3pCpLse4HD",
        "outputId": "301f12d8-0f03-4631-ce94-b9465e5ace7f"
      },
      "execution_count": 10,
      "outputs": [
        {
          "output_type": "stream",
          "name": "stdout",
          "text": [
            "{'name': 'ram', 'roll': 1, 'branch': 'cse'}\n"
          ]
        }
      ]
    },
    {
      "cell_type": "code",
      "source": [
        "#11. Write a program to calculate the sum of all numbers in a list: [5, 10, 15, 20] using a for loop.\n",
        "my_list=[5, 10, 15, 20]\n",
        "sum=0\n",
        "for i in my_list:\n",
        "  sum+=i\n",
        "\n",
        "print(sum)\n"
      ],
      "metadata": {
        "colab": {
          "base_uri": "https://localhost:8080/"
        },
        "id": "UaK1zBnUfQqi",
        "outputId": "26044d13-fcea-449f-9fcb-ffbc9e6183bb"
      },
      "execution_count": 11,
      "outputs": [
        {
          "output_type": "stream",
          "name": "stdout",
          "text": [
            "50\n"
          ]
        }
      ]
    },
    {
      "cell_type": "code",
      "source": [
        "#10 . Write a program to print the first 10 natural numbers using a for loop.\n",
        "for i in range(1,11):\n",
        "  print(i)"
      ],
      "metadata": {
        "colab": {
          "base_uri": "https://localhost:8080/"
        },
        "id": "4y3RIFv9o0rw",
        "outputId": "0e4bd9fb-fd79-478d-d366-50ec9e144bf4"
      },
      "execution_count": 17,
      "outputs": [
        {
          "output_type": "stream",
          "name": "stdout",
          "text": [
            "1\n",
            "2\n",
            "3\n",
            "4\n",
            "5\n",
            "6\n",
            "7\n",
            "8\n",
            "9\n",
            "10\n"
          ]
        }
      ]
    },
    {
      "cell_type": "code",
      "source": [
        "#8. Create a base class Animal with a method speak that prints\"I am an animal.\"Create a derived class Dog that overrides the speak method to print \"I am a dog.\"\n",
        "class animal:\n",
        "  def speak(self):\n",
        "    print(\"i am an animal\")\n",
        "class dog(animal):\n",
        "  def speak(self):\n",
        "    print(\"i am a dog\")\n",
        "d=dog()\n",
        "d.speak()"
      ],
      "metadata": {
        "colab": {
          "base_uri": "https://localhost:8080/"
        },
        "id": "T9ZslFOzfxaP",
        "outputId": "56ae3cdf-9519-470b-c346-86654c18cad4"
      },
      "execution_count": 12,
      "outputs": [
        {
          "output_type": "stream",
          "name": "stdout",
          "text": [
            "i am a dog\n"
          ]
        }
      ]
    },
    {
      "cell_type": "code",
      "source": [
        "#13 factorial using while loop\n",
        "num=int(input(\"enter a number : \"))\n",
        "fact=1\n",
        "i=1\n",
        "while i<=num:\n",
        "  fact=fact*i\n",
        "  i+=1\n",
        "print(fact)"
      ],
      "metadata": {
        "colab": {
          "base_uri": "https://localhost:8080/"
        },
        "id": "fCvftL_Nh-sJ",
        "outputId": "25b89a83-bde0-4471-965d-fadc9c87e5d1"
      },
      "execution_count": 15,
      "outputs": [
        {
          "output_type": "stream",
          "name": "stdout",
          "text": [
            "enter a number : 4\n",
            "24\n"
          ]
        }
      ]
    },
    {
      "cell_type": "code",
      "source": [
        "#12 Write a Python program to print the multiplication table of a given number using a while loop\n",
        "num=int(input(\"enter a number : \"))\n",
        "for i in range(1,11):\n",
        "  print(f\"{num} * {i} = {num*i}\")"
      ],
      "metadata": {
        "colab": {
          "base_uri": "https://localhost:8080/"
        },
        "id": "DExIB1qDlL4I",
        "outputId": "49726960-7727-4a44-82b4-dab9d73b1c4a"
      },
      "execution_count": 16,
      "outputs": [
        {
          "output_type": "stream",
          "name": "stdout",
          "text": [
            "enter a number : 5\n",
            "5 * 1 = 5\n",
            "5 * 2 = 10\n",
            "5 * 3 = 15\n",
            "5 * 4 = 20\n",
            "5 * 5 = 25\n",
            "5 * 6 = 30\n",
            "5 * 7 = 35\n",
            "5 * 8 = 40\n",
            "5 * 9 = 45\n",
            "5 * 10 = 50\n"
          ]
        }
      ]
    },
    {
      "cell_type": "code",
      "source": [
        "#14. Write a Python program to check if a number entered by the user is even or odd.\n",
        "num=int(input(\"enter a number : \"))\n",
        "\n",
        "if num%2==0:\n",
        "  print(\"even\")\n",
        "else:\n",
        "  print(\"odd\")\n"
      ],
      "metadata": {
        "id": "gKm-sBMflVAB"
      },
      "execution_count": null,
      "outputs": []
    },
    {
      "cell_type": "code",
      "source": [
        "#20. Write a Python program to count the number of vowels in a string entered by the user.\n",
        "my_str=input(\"enter a string : \")\n",
        "count=0\n",
        "for i in my_str.upper():\n",
        "  if i=='A' or i=='E' or i=='I' or i=='O' or i=='U':\n",
        "    count+=1\n",
        "print(count)\n"
      ],
      "metadata": {
        "colab": {
          "base_uri": "https://localhost:8080/"
        },
        "id": "cxFQSw7RpFMC",
        "outputId": "28cf6627-0f0d-4433-93ba-d01947351405"
      },
      "execution_count": 19,
      "outputs": [
        {
          "output_type": "stream",
          "name": "stdout",
          "text": [
            "enter a string : lnss\n",
            "0\n"
          ]
        }
      ]
    },
    {
      "cell_type": "markdown",
      "source": [
        "NumPy Questions\n",
        "(Solve any 10 Question)"
      ],
      "metadata": {
        "id": "X070mgKZwgJJ"
      }
    },
    {
      "cell_type": "code",
      "source": [
        "#1.Create a NumPy array of zeros with shape (3, 4).\n",
        "import numpy as np\n",
        "np.zeros((3,4))\n"
      ],
      "metadata": {
        "colab": {
          "base_uri": "https://localhost:8080/"
        },
        "id": "wsSY0hKtr25j",
        "outputId": "92de29b6-da00-4088-b1fe-d4da724713df"
      },
      "execution_count": 24,
      "outputs": [
        {
          "output_type": "execute_result",
          "data": {
            "text/plain": [
              "array([[0., 0., 0., 0.],\n",
              "       [0., 0., 0., 0.],\n",
              "       [0., 0., 0., 0.]])"
            ]
          },
          "metadata": {},
          "execution_count": 24
        }
      ]
    },
    {
      "cell_type": "code",
      "source": [
        "#2.Create a NumPy array of ones with shape (2, 5).\n",
        "np.ones((2,5))"
      ],
      "metadata": {
        "colab": {
          "base_uri": "https://localhost:8080/"
        },
        "id": "fYwKMgyUssnu",
        "outputId": "274bb91d-b427-4f7e-841b-163c272c3153"
      },
      "execution_count": 28,
      "outputs": [
        {
          "output_type": "execute_result",
          "data": {
            "text/plain": [
              "array([[1., 1., 1., 1., 1.],\n",
              "       [1., 1., 1., 1., 1.]])"
            ]
          },
          "metadata": {},
          "execution_count": 28
        }
      ]
    },
    {
      "cell_type": "code",
      "source": [
        "#3.Create a NumPy matrix with the values from 1 to 10 using np.arange().\n",
        "np.arange(1,11).reshape(2,5)"
      ],
      "metadata": {
        "colab": {
          "base_uri": "https://localhost:8080/"
        },
        "id": "p7DrY8bUt-1_",
        "outputId": "bbf652b5-0a2e-4f11-9848-f4ee49ea128a"
      },
      "execution_count": 30,
      "outputs": [
        {
          "output_type": "execute_result",
          "data": {
            "text/plain": [
              "array([[ 1,  2,  3,  4,  5],\n",
              "       [ 6,  7,  8,  9, 10]])"
            ]
          },
          "metadata": {},
          "execution_count": 30
        }
      ]
    },
    {
      "cell_type": "code",
      "source": [
        "#4.Create a NumPy array with numbers from 0 to 1 (inclusive) with a step size of 0.1 using np.arange().\n",
        "np.arange(0,(1+0.1),0.1)"
      ],
      "metadata": {
        "colab": {
          "base_uri": "https://localhost:8080/"
        },
        "id": "-EyqJ1wPzJiS",
        "outputId": "b307a1fa-a0bb-458a-ac21-58b9b46736b9"
      },
      "execution_count": 39,
      "outputs": [
        {
          "output_type": "execute_result",
          "data": {
            "text/plain": [
              "array([0. , 0.1, 0.2, 0.3, 0.4, 0.5, 0.6, 0.7, 0.8, 0.9, 1. ])"
            ]
          },
          "metadata": {},
          "execution_count": 39
        }
      ]
    },
    {
      "cell_type": "code",
      "source": [
        "#5. Create a NumPy array with 10 equally spaced values between 0 and 1 using np.linspace() with endpoint=False. #\n",
        "import numpy as np\n",
        "np.linspace(0,1,10,endpoint=False)\n"
      ],
      "metadata": {
        "colab": {
          "base_uri": "https://localhost:8080/"
        },
        "id": "Rk4l7LkNrlfQ",
        "outputId": "6ac8f2af-c8db-43f5-8637-4b4985728bd3"
      },
      "execution_count": 21,
      "outputs": [
        {
          "output_type": "execute_result",
          "data": {
            "text/plain": [
              "array([0. , 0.1, 0.2, 0.3, 0.4, 0.5, 0.6, 0.7, 0.8, 0.9])"
            ]
          },
          "metadata": {},
          "execution_count": 21
        }
      ]
    },
    {
      "cell_type": "code",
      "source": [
        "#6.Write a NumPy program to compute the square root of each element in the array [1, 4, 9, 16].\n",
        "num=np.array([1,4,9,16])\n",
        "np.sqrt(num)"
      ],
      "metadata": {
        "colab": {
          "base_uri": "https://localhost:8080/"
        },
        "id": "q8OecwLMsPB4",
        "outputId": "895f6263-9735-4ab9-d6b3-43ef66c22307"
      },
      "execution_count": 27,
      "outputs": [
        {
          "output_type": "execute_result",
          "data": {
            "text/plain": [
              "array([1., 2., 3., 4.])"
            ]
          },
          "metadata": {},
          "execution_count": 27
        }
      ]
    },
    {
      "cell_type": "code",
      "source": [
        "#7. Compute the sum of all elements in the array np.array([2, 3, 4, 5, 6]).\n",
        "num=np.array([2,3,4,5,6])\n",
        "np.sum(num)"
      ],
      "metadata": {
        "colab": {
          "base_uri": "https://localhost:8080/"
        },
        "id": "5ka7LR6rtl-M",
        "outputId": "2363436e-9518-4c63-ac20-ac8f7f27b5d7"
      },
      "execution_count": 41,
      "outputs": [
        {
          "output_type": "execute_result",
          "data": {
            "text/plain": [
              "20"
            ]
          },
          "metadata": {},
          "execution_count": 41
        }
      ]
    },
    {
      "cell_type": "code",
      "source": [
        "#8. Find the minimum value in the array np.array([1, 5, 9, 3, 6]) using np.min().\n",
        "num=np.array([1, 5, 9, 3, 6])\n",
        "np.min(num)"
      ],
      "metadata": {
        "colab": {
          "base_uri": "https://localhost:8080/"
        },
        "id": "jph9CBqQt2zx",
        "outputId": "66fa7650-86f2-42f8-f5c9-e99aa34e8019"
      },
      "execution_count": 31,
      "outputs": [
        {
          "output_type": "execute_result",
          "data": {
            "text/plain": [
              "1"
            ]
          },
          "metadata": {},
          "execution_count": 31
        }
      ]
    },
    {
      "cell_type": "code",
      "source": [
        "#9.Find the maximum value in the array np.array([1, 5, 9, 3, 6]) using np.max().\n",
        "np.max(num)"
      ],
      "metadata": {
        "colab": {
          "base_uri": "https://localhost:8080/"
        },
        "id": "DyY_RHHNuPst",
        "outputId": "47e02291-89e8-4fb1-ebfa-58101047414e"
      },
      "execution_count": 32,
      "outputs": [
        {
          "output_type": "execute_result",
          "data": {
            "text/plain": [
              "9"
            ]
          },
          "metadata": {},
          "execution_count": 32
        }
      ]
    },
    {
      "cell_type": "code",
      "source": [
        "#10. Use np.ceil() to round the elements of the array np.array([1.2, 2.5, 3.7, 4.9]) to the nearest greater integer.\n",
        "num=np.array([1.2, 2.5, 3.7, 4.9])\n",
        "np.ceil(num)"
      ],
      "metadata": {
        "colab": {
          "base_uri": "https://localhost:8080/"
        },
        "id": "cZsPrmobuytS",
        "outputId": "aee118e1-22d7-4037-e6bf-8cdfab3e67a7"
      },
      "execution_count": 33,
      "outputs": [
        {
          "output_type": "execute_result",
          "data": {
            "text/plain": [
              "array([2., 3., 4., 5.])"
            ]
          },
          "metadata": {},
          "execution_count": 33
        }
      ]
    },
    {
      "cell_type": "code",
      "source": [
        "#11. Generate an array of 5 random integers between 10 and 50 using np.random.randint().\n",
        "np.random.randint(10,50,5)\n",
        "#syntax : np.random.randint(low,high,size)\n"
      ],
      "metadata": {
        "colab": {
          "base_uri": "https://localhost:8080/"
        },
        "id": "CcSR9riLu7wD",
        "outputId": "6bf61efa-e205-423d-a9df-da620ccd16a8"
      },
      "execution_count": 34,
      "outputs": [
        {
          "output_type": "execute_result",
          "data": {
            "text/plain": [
              "array([33, 37, 38, 30, 25])"
            ]
          },
          "metadata": {},
          "execution_count": 34
        }
      ]
    }
  ]
}