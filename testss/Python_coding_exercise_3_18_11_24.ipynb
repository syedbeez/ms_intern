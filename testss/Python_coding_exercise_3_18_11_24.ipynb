{
  "nbformat": 4,
  "nbformat_minor": 0,
  "metadata": {
    "colab": {
      "provenance": []
    },
    "kernelspec": {
      "name": "python3",
      "display_name": "Python 3"
    },
    "language_info": {
      "name": "python"
    }
  },
  "cells": [
    {
      "cell_type": "code",
      "execution_count": null,
      "metadata": {
        "colab": {
          "base_uri": "https://localhost:8080/"
        },
        "id": "bhYT1lRWsVmq",
        "outputId": "0b82f10e-49de-4d86-bec8-e937304255cb"
      },
      "outputs": [
        {
          "output_type": "stream",
          "name": "stdout",
          "text": [
            "11\n"
          ]
        }
      ],
      "source": [
        "#1. Write a Python program to evaluate the expression `5 + 3 * 2` and print the result.\n",
        "\n",
        "print(5 + 3 * 2)\n"
      ]
    },
    {
      "cell_type": "code",
      "source": [
        "#2. Write a program that calculates the result of `2 ** 3 + 5`\n",
        "\n",
        "print(2 ** 3 + 5)"
      ],
      "metadata": {
        "colab": {
          "base_uri": "https://localhost:8080/"
        },
        "id": "8jS-zQZwszyi",
        "outputId": "08f33c7d-f19f-44cc-d132-89c7b533686e"
      },
      "execution_count": null,
      "outputs": [
        {
          "output_type": "stream",
          "name": "stdout",
          "text": [
            "13\n"
          ]
        }
      ]
    },
    {
      "cell_type": "code",
      "source": [
        "# 3. Create a program that calculates the result of the expression '(10 - 3) * (2 + 4)'\n",
        "\n",
        "print((10 - 3) * (2 + 4))"
      ],
      "metadata": {
        "colab": {
          "base_uri": "https://localhost:8080/"
        },
        "id": "c7UKn_UTs6E7",
        "outputId": "ab9f49ef-9384-4793-f14d-fec8ba822007"
      },
      "execution_count": null,
      "outputs": [
        {
          "output_type": "stream",
          "name": "stdout",
          "text": [
            "42\n"
          ]
        }
      ]
    },
    {
      "cell_type": "code",
      "source": [
        "#4. Write a program that calculates `15 // 4` and prints the result.\n",
        "\n",
        "print(15 // 4)"
      ],
      "metadata": {
        "colab": {
          "base_uri": "https://localhost:8080/"
        },
        "id": "Z1-jCUX-tI_f",
        "outputId": "84687dff-df53-4313-a53d-8d9c713054ee"
      },
      "execution_count": null,
      "outputs": [
        {
          "output_type": "stream",
          "name": "stdout",
          "text": [
            "3\n"
          ]
        }
      ]
    },
    {
      "cell_type": "code",
      "source": [
        " #5. Write a Python code to find the remainder when dividing 15 by 4 (`15 % 4`)\n",
        "\n",
        " print(15 % 4)"
      ],
      "metadata": {
        "colab": {
          "base_uri": "https://localhost:8080/"
        },
        "id": "QKohYxfCtUNM",
        "outputId": "d42ee26f-7b3a-42a1-9e8d-6c26eb3b1423"
      },
      "execution_count": null,
      "outputs": [
        {
          "output_type": "stream",
          "name": "stdout",
          "text": [
            "3\n"
          ]
        }
      ]
    },
    {
      "cell_type": "code",
      "source": [
        "# 6. Create a variable `x` and assign it the value 42. Print its type using `type()`.\n",
        "\n",
        "x = 42\n",
        "print(type(x))"
      ],
      "metadata": {
        "colab": {
          "base_uri": "https://localhost:8080/"
        },
        "id": "OAe4PYjctZkY",
        "outputId": "4e7c2563-cb3a-422e-adba-0569bd16d5fb"
      },
      "execution_count": null,
      "outputs": [
        {
          "output_type": "stream",
          "name": "stdout",
          "text": [
            "<class 'int'>\n"
          ]
        }
      ]
    },
    {
      "cell_type": "code",
      "source": [
        "# 7. Create a list `fruits = ['apple', 'banana', 'cherry']`. Print the type of this list.\n",
        "fruits=['apple','banana','cherry'] #create a list with 3 fruits\n",
        "print(fruits)\n",
        "print(type(fruits)) #print type"
      ],
      "metadata": {
        "colab": {
          "base_uri": "https://localhost:8080/"
        },
        "id": "G5ufvdpOtghI",
        "outputId": "52e2426a-eb52-47ce-c34d-b89a0d37b9bd"
      },
      "execution_count": null,
      "outputs": [
        {
          "output_type": "stream",
          "name": "stdout",
          "text": [
            "['apple', 'banana', 'cherry']\n",
            "<class 'list'>\n"
          ]
        }
      ]
    },
    {
      "cell_type": "code",
      "source": [
        "# 8. Create a variable `is_active` and assign it the value `True`. Print its type.\n",
        "is_active=True\n",
        "\n",
        "print(type(is_active)) #boolean as true or false are booleans"
      ],
      "metadata": {
        "colab": {
          "base_uri": "https://localhost:8080/"
        },
        "id": "_IkQSF1wtysM",
        "outputId": "0bdef8b0-b738-463e-a983-022e8fed45ed"
      },
      "execution_count": null,
      "outputs": [
        {
          "output_type": "stream",
          "name": "stdout",
          "text": [
            "<class 'bool'>\n"
          ]
        }
      ]
    },
    {
      "cell_type": "code",
      "source": [
        "#9. Create a variable `price = 3.14`. Print its type\n",
        "\n",
        "price=3.14\n",
        "\n",
        "print(type(price)) #float since 3.14 is a decimal"
      ],
      "metadata": {
        "colab": {
          "base_uri": "https://localhost:8080/"
        },
        "id": "VfugpbCduMVE",
        "outputId": "e03ef814-fea1-4cdb-c785-a7d66794a43c"
      },
      "execution_count": null,
      "outputs": [
        {
          "output_type": "stream",
          "name": "stdout",
          "text": [
            "<class 'float'>\n"
          ]
        }
      ]
    },
    {
      "cell_type": "code",
      "source": [
        "#10. Write a program to print the type of the string `'Hello World'`.\n",
        "print(type('Hello World')) #using type to print type of string \"Hello World\""
      ],
      "metadata": {
        "colab": {
          "base_uri": "https://localhost:8080/"
        },
        "id": "jItoxpnruVQb",
        "outputId": "66f45e09-3d55-4c99-e664-e2ce38a5de35"
      },
      "execution_count": null,
      "outputs": [
        {
          "output_type": "stream",
          "name": "stdout",
          "text": [
            "<class 'str'>\n"
          ]
        }
      ]
    },
    {
      "cell_type": "code",
      "source": [
        "# 11. Create a list of your 3 favorite fruits and print it.\n",
        "\n",
        "fruits=['apple','banana','cherry','grapes']\n",
        "print(fruits)"
      ],
      "metadata": {
        "colab": {
          "base_uri": "https://localhost:8080/"
        },
        "id": "cqlvkyjfudqN",
        "outputId": "90e96c1f-fa21-4a65-b0bd-166671209ad6"
      },
      "execution_count": null,
      "outputs": [
        {
          "output_type": "stream",
          "name": "stdout",
          "text": [
            "['apple', 'banana', 'cherry', 'grapes']\n"
          ]
        }
      ]
    },
    {
      "cell_type": "code",
      "source": [
        "#12. Convert a tuple `('apple', 'banana', 'cherry')` into a list. Print the new list.\n",
        "#create a tuple\n",
        "my_tup=('apple', 'banana', 'cherry')\n",
        "print(my_tup)\n",
        "#print type\n",
        "print(type(my_tup))\n",
        "print(\"*\"*50)\n",
        "#convert tuple to list\n",
        "tup2list=list(my_tup)\n",
        "print(tup2list)\n",
        "#print type\n",
        "print(type(tup2list))"
      ],
      "metadata": {
        "colab": {
          "base_uri": "https://localhost:8080/"
        },
        "id": "E440bk6qusuj",
        "outputId": "686339be-3da0-4dfe-e209-7cc0e0e719c5"
      },
      "execution_count": null,
      "outputs": [
        {
          "output_type": "stream",
          "name": "stdout",
          "text": [
            "('apple', 'banana', 'cherry')\n",
            "<class 'tuple'>\n",
            "**************************************************\n",
            "['apple', 'banana', 'cherry']\n",
            "<class 'list'>\n"
          ]
        }
      ]
    },
    {
      "cell_type": "code",
      "source": [
        "#13. Create a list `my_list = [10, 20, 30]`. Access and print the first element of the list\n",
        "my_list=[10,20,30]\n",
        "# 10 is first element 20 is second and 30 is third but indexing goes as 0,1,2 respectively.\n",
        "print(my_list[0])"
      ],
      "metadata": {
        "colab": {
          "base_uri": "https://localhost:8080/"
        },
        "id": "z55n0lr-undX",
        "outputId": "5cf53601-d72e-4bca-e89c-3ef985e80f8e"
      },
      "execution_count": null,
      "outputs": [
        {
          "output_type": "stream",
          "name": "stdout",
          "text": [
            "10\n"
          ]
        }
      ]
    },
    {
      "cell_type": "code",
      "source": [
        "#14. Find the length of the list `[10, 20, 30]` and print it.\n",
        "print(len(my_list))"
      ],
      "metadata": {
        "colab": {
          "base_uri": "https://localhost:8080/"
        },
        "id": "7goRPCz_wUJf",
        "outputId": "6a3b32ec-4a27-4cb3-ea18-71742c5f4d38"
      },
      "execution_count": null,
      "outputs": [
        {
          "output_type": "stream",
          "name": "stdout",
          "text": [
            "3\n"
          ]
        }
      ]
    },
    {
      "cell_type": "code",
      "source": [
        "#15. Add the element `40` to the list `my_list = [10, 20, 30]` and print the updated list\n",
        "\n",
        "my_list=[10,20,30]\n",
        "my_list.insert(3,40) #can add one element at a specific index\n",
        "print(my_list) #print updated list\n",
        "\n",
        "my_list=[10,20,30] #reset list\n",
        "\n",
        "my_list.append(40) #can add one element at the end\n",
        "print(my_list) #print updated list\n",
        "\n",
        "my_list=[10,20,30] #reset list\n",
        "my_list.extend([40]) #can add multiple elements at the same time like [40,50,60]\n",
        "print(my_list) #print updated list"
      ],
      "metadata": {
        "colab": {
          "base_uri": "https://localhost:8080/"
        },
        "id": "prf6f9eWwbJ9",
        "outputId": "fa60ae9b-5225-43d8-8f28-83b45543a812"
      },
      "execution_count": null,
      "outputs": [
        {
          "output_type": "stream",
          "name": "stdout",
          "text": [
            "[10, 20, 30, 40]\n",
            "[10, 20, 30, 40]\n",
            "[10, 20, 30, 40]\n"
          ]
        }
      ]
    },
    {
      "cell_type": "code",
      "source": [
        "#16. Write a `for` loop to print numbers from 1 to 5.\n",
        "for i in range(6):\n",
        "    print(i)"
      ],
      "metadata": {
        "colab": {
          "base_uri": "https://localhost:8080/"
        },
        "id": "sA373Dm5x8zc",
        "outputId": "6df24192-d0b0-4b0e-bbd1-dcfdb6bdb005"
      },
      "execution_count": null,
      "outputs": [
        {
          "output_type": "stream",
          "name": "stdout",
          "text": [
            "0\n",
            "1\n",
            "2\n",
            "3\n",
            "4\n",
            "5\n"
          ]
        }
      ]
    },
    {
      "cell_type": "code",
      "source": [
        "#17. Write a `for` loop to print numbers from 3 to 5.\n",
        "for i in range(3,6):\n",
        "    print(i)"
      ],
      "metadata": {
        "colab": {
          "base_uri": "https://localhost:8080/"
        },
        "id": "DH_7zd3LzdXU",
        "outputId": "bf0c3959-b74b-45f8-bf3c-4eafd101ed3c"
      },
      "execution_count": null,
      "outputs": [
        {
          "output_type": "stream",
          "name": "stdout",
          "text": [
            "3\n",
            "4\n",
            "5\n"
          ]
        }
      ]
    },
    {
      "cell_type": "code",
      "source": [
        "#.18  Write a `for` loop to iterate over a list `['apple', 'banana', 'cherry']` and print each element\n",
        "my_list=['apple','banana','cherry'] #create list\n",
        "for i in my_list: #iterate over list\n",
        "    print(i) # print each element\n"
      ],
      "metadata": {
        "colab": {
          "base_uri": "https://localhost:8080/"
        },
        "id": "fyTXlAuozuub",
        "outputId": "0e39531b-7b37-4514-ef2a-8f08bee1f2ef"
      },
      "execution_count": null,
      "outputs": [
        {
          "output_type": "stream",
          "name": "stdout",
          "text": [
            "apple\n",
            "banana\n",
            "cherry\n"
          ]
        }
      ]
    },
    {
      "cell_type": "code",
      "source": [
        "#  19. Print the square of numbers from 1 to 4 using a `for` loop\n",
        "for i in range(1,5): #1 to 5 but not including 5 so 1 to 4\n",
        "    print(f\"{i}² = {i**2}\")"
      ],
      "metadata": {
        "colab": {
          "base_uri": "https://localhost:8080/"
        },
        "id": "hzQBa2P10A0B",
        "outputId": "407419c3-0cc8-4c28-a3c1-179f3e070ecd"
      },
      "execution_count": null,
      "outputs": [
        {
          "output_type": "stream",
          "name": "stdout",
          "text": [
            "1² = 1\n",
            "2² = 4\n",
            "3² = 9\n",
            "4² = 16\n"
          ]
        }
      ]
    },
    {
      "cell_type": "code",
      "source": [
        "#20. Write a `for` loop that prints `i * 2` for `i` in the range of 5.\n",
        "for i in range(1,6): #1 to 6 but not including 5 so 1 to 5\n",
        "    print(f\"{i} x 2 = {i*2}\")"
      ],
      "metadata": {
        "colab": {
          "base_uri": "https://localhost:8080/"
        },
        "id": "SY5YHWJg1SvM",
        "outputId": "0eebc9b7-d5d8-433f-faa6-5a0ab1de2628"
      },
      "execution_count": null,
      "outputs": [
        {
          "output_type": "stream",
          "name": "stdout",
          "text": [
            "1 x 2 = 2\n",
            "2 x 2 = 4\n",
            "3 x 2 = 6\n",
            "4 x 2 = 8\n",
            "5 x 2 = 10\n"
          ]
        }
      ]
    },
    {
      "cell_type": "code",
      "source": [
        "# 21. Write a `while` loop that prints numbers from 1 to 5.\n",
        "num=1 #initialize num\n",
        "while num<=5: #while loop w condition\n",
        "  print(num) #print number\n",
        "  num+=1 #increment by 1"
      ],
      "metadata": {
        "colab": {
          "base_uri": "https://localhost:8080/"
        },
        "id": "y7dT9dR-2L45",
        "outputId": "d185a715-900b-4b94-b259-5551023ad507"
      },
      "execution_count": null,
      "outputs": [
        {
          "output_type": "stream",
          "name": "stdout",
          "text": [
            "1\n",
            "2\n",
            "3\n",
            "4\n",
            "5\n"
          ]
        }
      ]
    },
    {
      "cell_type": "code",
      "source": [
        "# 22. Write a `while` loop that prints numbers from 0 to 3.\n",
        "num=0 #initialize num\n",
        "while num<=3: #while loop w condition\n",
        "  print(num) #print number\n",
        "  num+=1 #increment by 1"
      ],
      "metadata": {
        "colab": {
          "base_uri": "https://localhost:8080/"
        },
        "id": "I2BlAoZo8pEZ",
        "outputId": "599de17e-4c6a-4dd7-a61a-aee1907c6893"
      },
      "execution_count": null,
      "outputs": [
        {
          "output_type": "stream",
          "name": "stdout",
          "text": [
            "0\n",
            "1\n",
            "2\n",
            "3\n"
          ]
        }
      ]
    },
    {
      "cell_type": "code",
      "source": [
        "#23. Write a `while` loop that calculates and prints the sum of numbers from 1 to 10.\n",
        "\n",
        "num=1\n",
        "sum=0\n",
        "while num<=10:\n",
        "    sum+=num\n",
        "    num+=1\n",
        "print(sum)"
      ],
      "metadata": {
        "colab": {
          "base_uri": "https://localhost:8080/"
        },
        "id": "6KJCsU8S9Y7_",
        "outputId": "9a73f41f-1022-4e51-9d98-33d5378a6567"
      },
      "execution_count": null,
      "outputs": [
        {
          "output_type": "stream",
          "name": "stdout",
          "text": [
            "55\n"
          ]
        }
      ]
    },
    {
      "cell_type": "code",
      "source": [
        "\n",
        "num = 1\n",
        "mul=1\n",
        "while num<=4:\n",
        "    mul*=num\n",
        "    num+=1\n",
        "print(mul)"
      ],
      "metadata": {
        "colab": {
          "base_uri": "https://localhost:8080/"
        },
        "id": "M5iUHaNC96RL",
        "outputId": "676e6673-9d67-4b94-f198-0dd61bb0df77"
      },
      "execution_count": null,
      "outputs": [
        {
          "output_type": "stream",
          "name": "stdout",
          "text": [
            "24\n"
          ]
        }
      ]
    },
    {
      "cell_type": "code",
      "source": [
        "#25. Write a `while` loop that prints numbers from 10 to 1, decrementing by 1 each time.\n",
        "num=10\n",
        "while num>0:\n",
        "  print(num)\n",
        "  num-=1"
      ],
      "metadata": {
        "colab": {
          "base_uri": "https://localhost:8080/"
        },
        "id": "RjAFiFT6-H5V",
        "outputId": "bb05ed87-0c6f-45b7-91e9-8135449d1ff2"
      },
      "execution_count": null,
      "outputs": [
        {
          "output_type": "stream",
          "name": "stdout",
          "text": [
            "10\n",
            "9\n",
            "8\n",
            "7\n",
            "6\n",
            "5\n",
            "4\n",
            "3\n",
            "2\n",
            "1\n"
          ]
        }
      ]
    },
    {
      "cell_type": "code",
      "source": [
        "# 26. Write a program that checks if a number is positive, negative, or zero\n",
        "num=int(input(\"Enter a number: \"))\n",
        "\n",
        "if num==0:\n",
        "  print(\"Number is zero\")\n",
        "elif num<0:\n",
        "  print(f\"{num} is negative\")\n",
        "else:\n",
        "  print(f\"{num} is positive\")"
      ],
      "metadata": {
        "colab": {
          "base_uri": "https://localhost:8080/"
        },
        "id": "7o5HwE5W-wv4",
        "outputId": "8138218e-fa81-4d8d-80b1-24ddf3ffd46d"
      },
      "execution_count": null,
      "outputs": [
        {
          "output_type": "stream",
          "name": "stdout",
          "text": [
            "Enter a number: 3\n",
            "3 is positive\n"
          ]
        }
      ]
    },
    {
      "cell_type": "code",
      "source": [
        "# 27. Write a program that checks if a number is even or odd using `if-else`.\n",
        "num=int(input(\"Enter a number: \"))\n",
        "if num % 2 ==0:\n",
        "  print(f\"{num} is even\")\n",
        "else:\n",
        "  print(f\"{num} is odd\")\n"
      ],
      "metadata": {
        "colab": {
          "base_uri": "https://localhost:8080/"
        },
        "id": "fM_gdXwu_OHn",
        "outputId": "6aab81be-36a2-40cc-ca0c-115744f128ad"
      },
      "execution_count": null,
      "outputs": [
        {
          "output_type": "stream",
          "name": "stdout",
          "text": [
            "Enter a number: 4\n",
            "4 is even\n"
          ]
        }
      ]
    },
    {
      "cell_type": "code",
      "source": [
        "#28. Write a program that checks if a number is greater than 10 and prints 'Greater', otherwise prints 'Smaller'\n",
        "num=int(input(\"Enter a number: \"))\n",
        "\n",
        "if num>10:\n",
        "  print(f\"{num} is greater than 10\")\n",
        "else:\n",
        "  print(f\"{num} is smaller than 10\")"
      ],
      "metadata": {
        "colab": {
          "base_uri": "https://localhost:8080/"
        },
        "id": "q9a4KqeZ_ys1",
        "outputId": "77d00082-b850-4097-dd59-0c8361a09a46"
      },
      "execution_count": null,
      "outputs": [
        {
          "output_type": "stream",
          "name": "stdout",
          "text": [
            "Enter a number: 9\n",
            "9 is smaller than 10\n"
          ]
        }
      ]
    },
    {
      "cell_type": "code",
      "source": [
        "#29. Write a program that prints the grade based on a score: A (90-100), B (70-89), C (50-69), and D (0-49)\n",
        "score=int(input(\"enter score: \"))\n",
        "\n",
        "if score>=90 and score<=100:\n",
        "  print(\"A\")\n",
        "elif score>=70 and score<=89:\n",
        "  print(\"B\")\n",
        "elif score>=50 and score<=69:\n",
        "  print(\"C\")\n",
        "else:\n",
        "  print(\"D\")"
      ],
      "metadata": {
        "colab": {
          "base_uri": "https://localhost:8080/"
        },
        "id": "gVQNFFM7AC8n",
        "outputId": "04ba3b8e-3343-4257-ff4c-dc7e68f69b11"
      },
      "execution_count": null,
      "outputs": [
        {
          "output_type": "stream",
          "name": "stdout",
          "text": [
            "enter score: 98\n",
            "A\n"
          ]
        }
      ]
    },
    {
      "cell_type": "code",
      "source": [
        "# 30. Write a program that checks if a number is divisible by 5 and prints 'Divisible' or 'Not Divisible'.\n",
        "num=int(input(\"Enter a number: \"))\n",
        "\n",
        "if num%5==0:\n",
        "  print(\"Divisible by 5\")\n",
        "else:\n",
        "  print(\"Not divisible by 5\")"
      ],
      "metadata": {
        "colab": {
          "base_uri": "https://localhost:8080/"
        },
        "id": "JYQ5p5kNAqQo",
        "outputId": "7da2bf0b-3ae5-4393-e1f3-502d5bde7c84"
      },
      "execution_count": null,
      "outputs": [
        {
          "output_type": "stream",
          "name": "stdout",
          "text": [
            "Enter a number: 4\n",
            "Not divisible by 5\n"
          ]
        }
      ]
    },
    {
      "cell_type": "code",
      "source": [
        " #31. Write a function `add_numbers(a, b)` that returns the sum of two number\n",
        "def add(a,b):\n",
        "  return(a+b)\n",
        "\n",
        "\n",
        "print(\"approach 1 result: \",add(2,3)) #add(2,3)\n",
        "\n",
        "def anyadd(*args):\n",
        "  total=0\n",
        "  for i in args:\n",
        "    total+=i\n",
        "  return(total)\n",
        "\n",
        "print(\"approach 2 result: \", anyadd(2,3))"
      ],
      "metadata": {
        "colab": {
          "base_uri": "https://localhost:8080/"
        },
        "id": "9KNyelrpAqlT",
        "outputId": "4b159841-b1cc-4a3b-ece5-9a6c2d3df880"
      },
      "execution_count": null,
      "outputs": [
        {
          "output_type": "stream",
          "name": "stdout",
          "text": [
            "approach 1 result:  5\n",
            "approach 2 result:  5\n"
          ]
        }
      ]
    },
    {
      "cell_type": "code",
      "source": [
        "#32. Write a function `revstr(s)` that returns the reverse of a string\n",
        "def revstr(s):\n",
        "  return(s[-1: :-1])\n",
        "\n",
        "\n",
        "mystr=input(\"Enter a string to be reversed : \")\n",
        "revstr(mystr)\n"
      ],
      "metadata": {
        "colab": {
          "base_uri": "https://localhost:8080/",
          "height": 52
        },
        "id": "aDcwNxOHBpJ2",
        "outputId": "c883911d-d051-4327-e4e3-8983cd5c7be4"
      },
      "execution_count": null,
      "outputs": [
        {
          "name": "stdout",
          "output_type": "stream",
          "text": [
            "Enter a string to be reversed : halladba\n"
          ]
        },
        {
          "output_type": "execute_result",
          "data": {
            "text/plain": [
              "'abdallah'"
            ],
            "application/vnd.google.colaboratory.intrinsic+json": {
              "type": "string"
            }
          },
          "metadata": {},
          "execution_count": 67
        }
      ]
    },
    {
      "cell_type": "code",
      "source": [
        "# 33. Write a function that returns the maximum of three numbers.\n",
        "#take 3 numbers input\n",
        "a=int(input(\"Enter first number: \"))\n",
        "b=int(input(\"Enter second number: \"))\n",
        "c=int(input(\"Enter third number: \"))\n",
        "print(\"_\"*50)\n",
        "def great(a,b,c):\n",
        "  if a>b and a>c: # #if one element is greater than other two we can say it is greatest\n",
        "    print(f\"{a} is greater than {b} and {c}\")\n",
        "  elif b>a and b>c:\n",
        "    print(f\"{b} is greater than {a} and {c}\")\n",
        "  else: #no other cases left so we can say c is the greatest\n",
        "    print(f\"{c} is greater than {a} and {b}\")\n",
        "\n",
        "great(a,b,c)"
      ],
      "metadata": {
        "colab": {
          "base_uri": "https://localhost:8080/"
        },
        "id": "lr7mXc55CFvO",
        "outputId": "48bf5172-7aa3-4530-e31a-bf9d042bad76"
      },
      "execution_count": null,
      "outputs": [
        {
          "output_type": "stream",
          "name": "stdout",
          "text": [
            "Enter first number: 10\n",
            "Enter second number: 20\n",
            "Enter third number: 30\n",
            "__________________________________________________\n",
            "30 is greater than 10 and 20\n"
          ]
        }
      ]
    },
    {
      "cell_type": "code",
      "source": [
        "#34. Write a function that calculates the factorial of a number using a loop.\n",
        "def factor(num):\n",
        "  list=[]\n",
        "  while num>0:\n",
        "    list.append(num)\n",
        "    num-=1\n",
        "  fact=1\n",
        "  for i in list:\n",
        "    fact*=i\n",
        "\n",
        "  return fact\n",
        "\n",
        "numb=int(input(\"Enter a number: \"))\n",
        "print(f\"factorial of {numb} is {numb}! =\",factor(numb))\n",
        "\n"
      ],
      "metadata": {
        "colab": {
          "base_uri": "https://localhost:8080/"
        },
        "id": "wmGcCCjECTHC",
        "outputId": "18076a60-e42e-4691-ff8c-227effef7b52"
      },
      "execution_count": null,
      "outputs": [
        {
          "output_type": "stream",
          "name": "stdout",
          "text": [
            "Enter a number: 4\n",
            "factorial of 4 is 4! = 24\n"
          ]
        }
      ]
    },
    {
      "cell_type": "code",
      "source": [
        "# 35. Write a function `multiply(a, b)` that returns the product of two numbers and prints the result.\n",
        "def multiply(a,b):\n",
        "  return(a*b)\n",
        "\n",
        "multiply(2,3)"
      ],
      "metadata": {
        "colab": {
          "base_uri": "https://localhost:8080/"
        },
        "id": "_PzIQBZQJBDT",
        "outputId": "7ca21260-c4e7-4057-a705-4268f1437c23"
      },
      "execution_count": null,
      "outputs": [
        {
          "output_type": "execute_result",
          "data": {
            "text/plain": [
              "6"
            ]
          },
          "metadata": {},
          "execution_count": 91
        }
      ]
    },
    {
      "cell_type": "code",
      "source": [
        "#36. Write a lambda function that adds two numbers and prints the result.\n",
        "add=lambda a,b:a+b #lambda takes a and b as paramters and returns sum\n",
        "\n",
        "add(2,3) #sum of 2 & 3"
      ],
      "metadata": {
        "colab": {
          "base_uri": "https://localhost:8080/"
        },
        "id": "JcP1oBKiKR0l",
        "outputId": "ea1a72bd-23f7-4197-aee9-bb5992075dc8"
      },
      "execution_count": null,
      "outputs": [
        {
          "output_type": "execute_result",
          "data": {
            "text/plain": [
              "5"
            ]
          },
          "metadata": {},
          "execution_count": 92
        }
      ]
    },
    {
      "cell_type": "code",
      "source": [
        "#37. Use a lambda function to square a number and print the result\n",
        "#two ways to square a*a or a**2 eg: (2*2 or 2**2 both will give 4) we will do both\n",
        "sq=lambda a:a*a\n",
        "sq2=lambda a:a**2\n",
        "num=int(input(\"Enter a number to square: \"))\n",
        "print(f\"Approach 1: {num}² = \",sq(num))\n",
        "print(f\"Approach 2: {num}² = \",sq2(num))"
      ],
      "metadata": {
        "colab": {
          "base_uri": "https://localhost:8080/"
        },
        "id": "vpQLak0SKWo7",
        "outputId": "b3ae51e3-b436-4ecc-f73c-4f2edb440ad2"
      },
      "execution_count": null,
      "outputs": [
        {
          "output_type": "stream",
          "name": "stdout",
          "text": [
            "Enter a number to square: 5\n",
            "Approach 1: 5² =  25\n",
            "Approach 2: 5² =  25\n"
          ]
        }
      ]
    },
    {
      "cell_type": "code",
      "source": [
        "#38.\n",
        "# i)Use a lambda function to cube a number and print the result\n",
        "#similar to previous code we will use two approaches for cubing\n",
        "cube=lambda a:a*a*a\n",
        "cube2=lambda a:a**3\n",
        "num=int(input(\"Enter a number to cube: \"))\n",
        "print(f\"Approach 1: {num}³ = \",cube(num))\n",
        "print(f\"Approach 2: {num}³ = \",cube2(num))"
      ],
      "metadata": {
        "colab": {
          "base_uri": "https://localhost:8080/"
        },
        "id": "aJuaxzKNL129",
        "outputId": "89c4b3d8-5a22-4003-95bf-f5a5b21252a4"
      },
      "execution_count": null,
      "outputs": [
        {
          "output_type": "stream",
          "name": "stdout",
          "text": [
            "Enter a number to cube: 3\n",
            "Approach 1: 3³ =  27\n",
            "Approach 2: 3³ =  27\n"
          ]
        }
      ]
    },
    {
      "cell_type": "code",
      "source": [
        "#38.\n",
        "# ii)Write a lambda function to find the cube of a number and call it with the value `3`\n",
        "op=lambda a,val:a**val\n",
        "num=int(input(\"Enter a number : \"))\n",
        "val=int(input(\"Enter 2 for square and 3 cube and so on... : \"))\n",
        "\n",
        "\n",
        "print(f\"{num}^{val} = \",op(num,val))"
      ],
      "metadata": {
        "colab": {
          "base_uri": "https://localhost:8080/"
        },
        "id": "d9Yjg_4zSsER",
        "outputId": "35239001-07b4-4312-afcd-2078512fcdf4"
      },
      "execution_count": null,
      "outputs": [
        {
          "output_type": "stream",
          "name": "stdout",
          "text": [
            "Enter a number : 2\n",
            "Enter 2 for square and 3 cube and so on... : 3\n",
            "2^3 =  8\n"
          ]
        }
      ]
    },
    {
      "cell_type": "code",
      "source": [
        "# 39. Write a lambda function that filters even numbers from the list `[1, 2, 3, 4, 5, 6]`\n",
        "even=lambda list:[i for i in my_list if i%2==0] #works like for i in my_list: if i%2==0: return i\n",
        "my_list=[1,2,3,4,5,6]\n",
        "print(even(my_list))"
      ],
      "metadata": {
        "colab": {
          "base_uri": "https://localhost:8080/"
        },
        "id": "FXfrRPCnT4Hc",
        "outputId": "fe6658fb-60b8-4804-fceb-f712213f8403"
      },
      "execution_count": null,
      "outputs": [
        {
          "output_type": "stream",
          "name": "stdout",
          "text": [
            "[2, 4, 6]\n"
          ]
        }
      ]
    },
    {
      "cell_type": "code",
      "source": [
        "#40. Write a lambda function that checks if a number is positive or not give true or false respectively\n",
        "pos=lambda a:[f\"True, {a} is positive\" if a>0 and a!=0 else f\"False, {a} not positive\"]\n",
        "\n",
        "num=int(input(\"Enter a number: \"))\n",
        "print(pos(num))"
      ],
      "metadata": {
        "colab": {
          "base_uri": "https://localhost:8080/"
        },
        "id": "rFZ18Qy1UUAU",
        "outputId": "1351b407-1f80-4270-9d32-9aba93ae0a6f"
      },
      "execution_count": null,
      "outputs": [
        {
          "output_type": "stream",
          "name": "stdout",
          "text": [
            "Enter a number: 2\n",
            "['True, 2 is positive']\n"
          ]
        }
      ]
    },
    {
      "cell_type": "code",
      "source": [
        "#41. use map to multiply the numbers by 2 in the list `[1, 2, 3, 4]`\n",
        "def multwo(a):\n",
        "  return(a*2) #multiply by 2\n",
        "\n",
        "my_list=[1,2,3,4]\n",
        "twomul=list(map(multwo,my_list)) #map to multiply list numbers by 2\n",
        "print(twomul)"
      ],
      "metadata": {
        "colab": {
          "base_uri": "https://localhost:8080/"
        },
        "id": "MGTPPuTdKzOt",
        "outputId": "aeee9358-0c58-4d13-e0c5-e4960b4c7139"
      },
      "execution_count": 14,
      "outputs": [
        {
          "output_type": "stream",
          "name": "stdout",
          "text": [
            "[2, 4, 6, 8]\n"
          ]
        }
      ]
    },
    {
      "cell_type": "code",
      "source": [
        "#42. map to square the numbers in the list `[1, 2, 3, 4, 5]`\n",
        "def square(a):\n",
        "    return a * a\n",
        "\n",
        "sq_num = map(square, [1, 2, 3, 4, 5])\n",
        "print(list(sq_num))\n"
      ],
      "metadata": {
        "colab": {
          "base_uri": "https://localhost:8080/"
        },
        "id": "FMih1Tz3WeyW",
        "outputId": "fb1cb697-13fb-4ab8-adce-add35bdd993a"
      },
      "execution_count": null,
      "outputs": [
        {
          "output_type": "stream",
          "name": "stdout",
          "text": [
            "[1, 4, 9, 16, 25]\n"
          ]
        }
      ]
    },
    {
      "cell_type": "code",
      "source": [
        "#43 use map to convert a list of strings to integers\n",
        "def conv(a):\n",
        "  ilist=[] #empty list\n",
        "  for i in a:\n",
        "    i=int(i) #convert string to int\n",
        "    ilist.append(i) #append to list\n",
        "  return ilist\n",
        "my_list=['1','2','3'] #list\n",
        "makeint=list(map(conv,my_list)) #map to convert string to int\n",
        "print(makeint)"
      ],
      "metadata": {
        "colab": {
          "base_uri": "https://localhost:8080/"
        },
        "id": "Mn0LI3mVZOii",
        "outputId": "38671098-b074-41a0-c6a7-763251d09a56"
      },
      "execution_count": null,
      "outputs": [
        {
          "output_type": "stream",
          "name": "stdout",
          "text": [
            "[[1], [2], [3]]\n"
          ]
        }
      ]
    },
    {
      "cell_type": "code",
      "source": [
        "#44 use map to square the numbers in the list `[1, 4, 9, 16]`\n",
        "def square(a):\n",
        "    return a * a\n",
        "\n",
        "sq_num = map(square, [1, 4, 9, 16])\n",
        "print(list(sq_num))\n"
      ],
      "metadata": {
        "colab": {
          "base_uri": "https://localhost:8080/"
        },
        "id": "3wHkL9GCa6KU",
        "outputId": "fe3582a7-496d-4bab-a32a-1bea9c9f13b6"
      },
      "execution_count": null,
      "outputs": [
        {
          "output_type": "stream",
          "name": "stdout",
          "text": [
            "[1, 16, 81, 256]\n"
          ]
        }
      ]
    },
    {
      "cell_type": "code",
      "source": [
        "#45 use map to capitalize the names in the list `[“hello”, “world”]` as Hello, World\n",
        "def capper(a):\n",
        "    return a.capitalize() #capitalize the string\n",
        "\n",
        "my_list = [\"hello\", \"world\"] #list with strings hello and world\n",
        "cap = list(map(capper, my_list)) #map to capitalize\n",
        "print(cap) #print the list with capitalized strings\n"
      ],
      "metadata": {
        "colab": {
          "base_uri": "https://localhost:8080/"
        },
        "id": "yfmDIJU9bFn5",
        "outputId": "ffd2faba-91a8-430e-fb4d-2a588d8b107c"
      },
      "execution_count": null,
      "outputs": [
        {
          "output_type": "stream",
          "name": "stdout",
          "text": [
            "['Hello', 'World']\n"
          ]
        }
      ]
    },
    {
      "cell_type": "code",
      "source": [
        "#46. use filter to filter out the even numbers from the list\n",
        "def iseven(a):\n",
        "  if a%2==0:\n",
        "    return True\n",
        "  else:\n",
        "    return False\n",
        "\n",
        "my_list=[1,2,3,4,5,6]\n",
        "even=filter(iseven,my_list)\n",
        "\n",
        "for i in even:\n",
        "  print(i)"
      ],
      "metadata": {
        "colab": {
          "base_uri": "https://localhost:8080/"
        },
        "id": "F_a3D8dsbYcd",
        "outputId": "75d85e91-6ee2-4f6c-ffad-d2fa64e36662"
      },
      "execution_count": null,
      "outputs": [
        {
          "output_type": "stream",
          "name": "stdout",
          "text": [
            "2\n",
            "4\n",
            "6\n"
          ]
        }
      ]
    },
    {
      "cell_type": "code",
      "source": [
        "#47. use filter to filter out the numbers that are greater than 3\n",
        "def greaterthan(a):\n",
        "  if a>=3: #if number is greater than or equal to 3\n",
        "    return True #return true\n",
        "  else:\n",
        "    return False #else return false\n",
        "greater=filter(greaterthan,my_list) #filter numbers greater than 3\n",
        "\n",
        "for i in greater:\n",
        "  print(i)"
      ],
      "metadata": {
        "colab": {
          "base_uri": "https://localhost:8080/"
        },
        "id": "SmbydD8cvodo",
        "outputId": "d3d3abb3-aecd-4a51-e449-b663ef6c90b7"
      },
      "execution_count": null,
      "outputs": [
        {
          "output_type": "stream",
          "name": "stdout",
          "text": [
            "3\n",
            "4\n",
            "5\n",
            "6\n"
          ]
        }
      ]
    },
    {
      "cell_type": "code",
      "source": [
        "#48. use filter to filter out the strings that are longer than 3 in length\n",
        "def lent(a):\n",
        "  if len(a)>3: #if length of string is greater than 3 True Else False\n",
        "    return True\n",
        "  else:\n",
        "    return False\n",
        "\n",
        "my_lis2=['Tom','Jack','Bob','Alice'] #list with names\n",
        "\n",
        "lentt=filter(lent,my_lis2) #filter names longer than 3\n",
        "\n",
        "for i in lentt:\n",
        "  print(i)\n",
        "\n",
        "for i in lentt:\n",
        "  print(i)"
      ],
      "metadata": {
        "colab": {
          "base_uri": "https://localhost:8080/"
        },
        "id": "1n2i6nKowTSA",
        "outputId": "70df28ca-a395-40b5-9b69-850d3698f321"
      },
      "execution_count": null,
      "outputs": [
        {
          "output_type": "stream",
          "name": "stdout",
          "text": [
            "Jack\n",
            "Alice\n"
          ]
        }
      ]
    },
    {
      "cell_type": "code",
      "source": [
        "#49. use filter to filter out the negative numbers\n",
        "def checkneg(a):\n",
        "  if a>0 and a!=0:\n",
        "    return False\n",
        "  else:\n",
        "    return True\n",
        "my_list3=[-1,-2,3,4,-5]\n",
        "\n",
        "negcheck=filter(checkneg,my_list3)\n",
        "\n",
        "for i in negcheck:\n",
        "  print(i)"
      ],
      "metadata": {
        "colab": {
          "base_uri": "https://localhost:8080/"
        },
        "id": "-y9e4Oaawu4K",
        "outputId": "266aa0f9-f9dc-4b3e-b032-ef61a4d15864"
      },
      "execution_count": null,
      "outputs": [
        {
          "output_type": "stream",
          "name": "stdout",
          "text": [
            "-1\n",
            "-2\n",
            "-5\n"
          ]
        }
      ]
    },
    {
      "cell_type": "code",
      "source": [
        "#50. Use `filter()` to find all numbers divisible by 3 from the list `[1, 2, 3, 4, 5,6]`\n",
        "def divthree(a):\n",
        "  if a%3==0: #if number is divisible by 3 true else false\n",
        "    return True\n",
        "  else:\n",
        "    return False\n",
        "\n",
        "my_list4=[1,2,3,4,5,6] #giving list\n",
        "\n",
        "threediv=filter(divthree,my_list4) #filtering numbers divisible by 3\n",
        "for i in threediv:\n",
        "  print(i)\n",
        "\n"
      ],
      "metadata": {
        "colab": {
          "base_uri": "https://localhost:8080/"
        },
        "id": "yBtPrtPVxLOd",
        "outputId": "f299c579-274c-4360-8de8-baa10a48be4b"
      },
      "execution_count": null,
      "outputs": [
        {
          "output_type": "stream",
          "name": "stdout",
          "text": [
            "3\n",
            "6\n"
          ]
        }
      ]
    },
    {
      "cell_type": "code",
      "source": [
        "#51. Write a program that prints numbers from 1 to 5, but breaks the loop when it reaches 3\n",
        "for i in range(1,6):\n",
        "  if i==3:\n",
        "    break #break at 3\n",
        "  print(i)"
      ],
      "metadata": {
        "colab": {
          "base_uri": "https://localhost:8080/"
        },
        "id": "ppRDo0ygxhnh",
        "outputId": "40757910-9636-4c47-c4ee-2fc8211b4206"
      },
      "execution_count": null,
      "outputs": [
        {
          "output_type": "stream",
          "name": "stdout",
          "text": [
            "1\n",
            "2\n"
          ]
        }
      ]
    },
    {
      "cell_type": "code",
      "source": [
        "# 52. Write a program that prints numbers from 1 to 5, but skips 3 using `continue`.\n",
        "for i in range(1,6):\n",
        "  if i==3:\n",
        "    continue #skip 3\n",
        "  print(i)"
      ],
      "metadata": {
        "colab": {
          "base_uri": "https://localhost:8080/"
        },
        "id": "SeCL3B39x_W4",
        "outputId": "08104fd4-568d-4345-803d-bb8a1176ea7e"
      },
      "execution_count": null,
      "outputs": [
        {
          "output_type": "stream",
          "name": "stdout",
          "text": [
            "1\n",
            "2\n",
            "4\n",
            "5\n"
          ]
        }
      ]
    },
    {
      "cell_type": "code",
      "source": [
        "#53. Write a program that prints numbers from 1 to 5, but breaks the loop when number is greater than 4\n",
        "for i in range(1,6):\n",
        "  if i>4:\n",
        "    break\n",
        "  print(i)"
      ],
      "metadata": {
        "colab": {
          "base_uri": "https://localhost:8080/"
        },
        "id": "ZlUh01JLyE2Q",
        "outputId": "23bfab6a-bb84-443b-f656-e07cd964074d"
      },
      "execution_count": null,
      "outputs": [
        {
          "output_type": "stream",
          "name": "stdout",
          "text": [
            "1\n",
            "2\n",
            "3\n",
            "4\n"
          ]
        }
      ]
    },
    {
      "cell_type": "code",
      "source": [
        "#54. Write a program that prints even numbers from 1 to 10 using `continue`.\n",
        "for i in range(1,11):\n",
        "  if i%2!=0:\n",
        "    continue\n",
        "  print(i)"
      ],
      "metadata": {
        "colab": {
          "base_uri": "https://localhost:8080/"
        },
        "id": "bO13ppnCyNkT",
        "outputId": "4d7e5117-0ac6-4cfe-e339-566041e4af29"
      },
      "execution_count": null,
      "outputs": [
        {
          "output_type": "stream",
          "name": "stdout",
          "text": [
            "2\n",
            "4\n",
            "6\n",
            "8\n",
            "10\n"
          ]
        }
      ]
    },
    {
      "cell_type": "code",
      "source": [
        "#55. Write a program that prints numbers from 1 to 5, but breaks the loop when negative number is encountered\n",
        "my_list5=[1, 2, 3, -1, 4]\n",
        "\n",
        "for i in my_list5:\n",
        "  if i<0: #if number is negative\n",
        "    break #it will break the loop i.e not print -1 and stop\n",
        "  print(i)"
      ],
      "metadata": {
        "colab": {
          "base_uri": "https://localhost:8080/"
        },
        "id": "OiwES-IdydrA",
        "outputId": "76a5794b-c1cf-45db-8e56-390233fdc99e"
      },
      "execution_count": null,
      "outputs": [
        {
          "output_type": "stream",
          "name": "stdout",
          "text": [
            "1\n",
            "2\n",
            "3\n"
          ]
        }
      ]
    },
    {
      "cell_type": "code",
      "source": [
        "#56. Write a program that uses `enumerate()` to print the index and value of each element in the list `['apple', 'banana', 'cherry']`.\n",
        "my_list=['apple','banana','cherry']\n",
        "for index,name in enumerate(my_list): #index and name are variables and my_list is the list which will be iterated\n",
        "  print(index,name)"
      ],
      "metadata": {
        "id": "wIYfKndiysGt",
        "colab": {
          "base_uri": "https://localhost:8080/"
        },
        "outputId": "613ea723-a5e7-4e83-b75d-7337ddba4369"
      },
      "execution_count": 2,
      "outputs": [
        {
          "output_type": "stream",
          "name": "stdout",
          "text": [
            "0 apple\n",
            "1 banana\n",
            "2 cherry\n"
          ]
        }
      ]
    },
    {
      "cell_type": "code",
      "source": [
        "#57. Write a program to unzip the list of tuples `[(1, 'a'), (2, 'b'), (3, 'c')]` into two separate lists\n",
        "my_list=[(1, 'a'), (2, 'b'), (3, 'c')] #list of tuples\n",
        "\n",
        "nl=list(zip(*my_list))  #unzip list of tuples by using zip(*_____)\n",
        "print(nl) #print unzipped list\n",
        "l1,l2=map(list,nl) #make two lists l1 -> [1,2,3] and l2 -> ['a','b','c'] from unzipped list of tupples\n",
        "print(l1)\n",
        "print(l2)"
      ],
      "metadata": {
        "colab": {
          "base_uri": "https://localhost:8080/"
        },
        "id": "Hko84pAQEKRH",
        "outputId": "979dbc42-a20c-47ee-fcde-281ad7d8e19c"
      },
      "execution_count": 11,
      "outputs": [
        {
          "output_type": "stream",
          "name": "stdout",
          "text": [
            "[(1, 2, 3), ('a', 'b', 'c')]\n",
            "[1, 2, 3]\n",
            "['a', 'b', 'c']\n"
          ]
        }
      ]
    },
    {
      "cell_type": "code",
      "source": [
        "# 58. Write a program that zips two lists `['apple', 'banana']` and `[1, 2]` and prints the result.\n",
        "#two lists\n",
        "l1=['apple', 'banana']\n",
        "l2=[1,2]\n",
        "#zip two lists into one\n",
        "nl=list(zip(l1,l2))\n",
        "print(nl)"
      ],
      "metadata": {
        "colab": {
          "base_uri": "https://localhost:8080/"
        },
        "id": "Ex2Q-3O6Fmj2",
        "outputId": "4b257305-8512-4698-fe61-73783ba72261"
      },
      "execution_count": 12,
      "outputs": [
        {
          "output_type": "stream",
          "name": "stdout",
          "text": [
            "[('apple', 1), ('banana', 2)]\n"
          ]
        }
      ]
    },
    {
      "cell_type": "code",
      "source": [
        "#59. Write a program to find the sum of corresponding elements in two lists `a = [1, 2, 3]` and `b = [4, 5, 6]` using `zip()`\n",
        "# Create two lists a and b\n",
        "a = [1, 2, 3]\n",
        "b = [4, 5, 6]\n",
        "\n",
        "# Find the sum of elements using zip()\n",
        "sums = [x + y for x, y in zip(a, b)] #sum of elements in zipped a and b\n",
        "\n",
        "print(sums)"
      ],
      "metadata": {
        "colab": {
          "base_uri": "https://localhost:8080/"
        },
        "id": "Pc5cq-FvGeSY",
        "outputId": "dba93796-592d-41ba-fdd5-9dc0156bc341"
      },
      "execution_count": 13,
      "outputs": [
        {
          "output_type": "stream",
          "name": "stdout",
          "text": [
            "[5, 7, 9]\n"
          ]
        }
      ]
    },
    {
      "cell_type": "code",
      "source": [
        "# 60. Use `enumerate()` to loop over a list of names and print each name with its index\n",
        "names=['John','Alice','Bob'] #list of names\n",
        "for index,name in enumerate(names): #loop over the list with enumerate\n",
        "  print(index,name) #print name with index"
      ],
      "metadata": {
        "colab": {
          "base_uri": "https://localhost:8080/"
        },
        "id": "FzF6pJbZNf5u",
        "outputId": "156a078c-e5be-4fff-9671-bb6545f2acc4"
      },
      "execution_count": 15,
      "outputs": [
        {
          "output_type": "stream",
          "name": "stdout",
          "text": [
            "0 John\n",
            "1 Alice\n",
            "2 Bob\n"
          ]
        }
      ]
    }
  ]
}