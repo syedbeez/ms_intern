{
  "cells": [
    {
      "cell_type": "code",
      "execution_count": null,
      "id": "9077ca1c-c26e-49f8-9c5f-9dc3b00af981",
      "metadata": {
        "id": "9077ca1c-c26e-49f8-9c5f-9dc3b00af981"
      },
      "outputs": [],
      "source": [
        "#import libraries\n",
        "import pandas as pd\n",
        "import numpy as np\n",
        "from sklearn.model_selection import train_test_split, cross_val_score, GridSearchCV\n",
        "from sklearn.preprocessing import StandardScaler\n",
        "from sklearn.feature_selection import SelectKBest, f_regression\n",
        "from sklearn.linear_model import LinearRegression\n",
        "from sklearn.tree import DecisionTreeRegressor\n",
        "from sklearn.ensemble import RandomForestRegressor\n",
        "from sklearn.metrics import mean_absolute_error, mean_squared_error, r2_score\n",
        "import seaborn as sns\n",
        "import matplotlib.pyplot as plt"
      ]
    },
    {
      "cell_type": "code",
      "execution_count": null,
      "id": "908595c9-5098-4ac7-868e-efb62ab35819",
      "metadata": {
        "id": "908595c9-5098-4ac7-868e-efb62ab35819"
      },
      "outputs": [],
      "source": [
        "# Load the dataset\n",
        "file_path = r\"C:\\Users\\91950\\Downloads\\medical_cost_insurance (1)\\medical_cost_insurance\\medc.csv\"\n",
        "df = pd.read_csv(file_path)"
      ]
    },
    {
      "cell_type": "code",
      "execution_count": null,
      "id": "82b7b4ad-a7cc-46fe-b07b-64cc8273e1b9",
      "metadata": {
        "id": "82b7b4ad-a7cc-46fe-b07b-64cc8273e1b9",
        "outputId": "99c56c7a-cfe2-4667-cd4a-b7f85e779a25"
      },
      "outputs": [
        {
          "name": "stdout",
          "output_type": "stream",
          "text": [
            "Dataset Head:\n",
            "   age     sex     bmi  children smoker     region      charges\n",
            "0   19  female  27.900         0    yes  southwest  16884.92400\n",
            "1   18    male  33.770         1     no  southeast   1725.55230\n",
            "2   28    male  33.000         3     no  southeast   4449.46200\n",
            "3   33    male  22.705         0     no  northwest  21984.47061\n",
            "4   32    male  28.880         0     no  northwest   3866.85520\n"
          ]
        }
      ],
      "source": [
        "# View the dataset\n",
        "print(\"Dataset Head:\")\n",
        "print(df.head())"
      ]
    },
    {
      "cell_type": "code",
      "execution_count": null,
      "id": "46a2cded-76b4-49a4-8f73-99b645bd8204",
      "metadata": {
        "id": "46a2cded-76b4-49a4-8f73-99b645bd8204",
        "outputId": "addd01cc-c5af-4372-efc6-47d7cb0cab98"
      },
      "outputs": [
        {
          "name": "stdout",
          "output_type": "stream",
          "text": [
            "\n",
            "Missing Values:\n",
            "age         0\n",
            "sex         0\n",
            "bmi         0\n",
            "children    0\n",
            "smoker      0\n",
            "region      0\n",
            "charges     0\n",
            "dtype: int64\n"
          ]
        }
      ],
      "source": [
        "# Check for missing values\n",
        "print(\"\\nMissing Values:\")\n",
        "print(df.isnull().sum())\n",
        "#No missing values found"
      ]
    },
    {
      "cell_type": "code",
      "execution_count": null,
      "id": "3c15f5bd-382e-4d24-82ea-3d34d56af747",
      "metadata": {
        "id": "3c15f5bd-382e-4d24-82ea-3d34d56af747",
        "outputId": "1de8b80d-2795-4684-8467-34f338a6f88e"
      },
      "outputs": [
        {
          "data": {
            "image/png": "[encoded data removed]",
            "text/plain": [
              "<Figure size 800x600 with 2 Axes>"
            ]
          },
          "metadata": {},
          "output_type": "display_data"
        }
      ],
      "source": [
        "plt.figure(figsize=(8, 6))\n",
        "sns.heatmap(df.corr(numeric_only=True), annot=True, cmap=\"coolwarm\")\n",
        "plt.title(\"Correlation Matrix\")\n",
        "plt.show()\n"
      ]
    },
    {
      "cell_type": "code",
      "execution_count": null,
      "id": "75087b33-2d1a-480d-baad-94630de1c134",
      "metadata": {
        "id": "75087b33-2d1a-480d-baad-94630de1c134",
        "outputId": "84419ab9-b102-4e4b-b7ba-1856d672ab6c"
      },
      "outputs": [
        {
          "name": "stdout",
          "output_type": "stream",
          "text": [
            "Correlation Matrix:\n",
            "               age       bmi  children   charges\n",
            "age       1.000000  0.109272  0.042469  0.299008\n",
            "bmi       0.109272  1.000000  0.012759  0.198341\n",
            "children  0.042469  0.012759  1.000000  0.067998\n",
            "charges   0.299008  0.198341  0.067998  1.000000\n"
          ]
        }
      ],
      "source": [
        "# Print the numerical correlation matrix\n",
        "correlation_matrix = df.corr(numeric_only=True)\n",
        "print(\"Correlation Matrix:\")\n",
        "print(correlation_matrix)\n"
      ]
    },
    {
      "cell_type": "code",
      "execution_count": null,
      "id": "abd19f08-acdd-479b-a058-8ce6e3185b33",
      "metadata": {
        "id": "abd19f08-acdd-479b-a058-8ce6e3185b33"
      },
      "outputs": [],
      "source": [
        "# Convert categorical variables to dummy variables\n",
        "df = pd.get_dummies(df, columns=[\"sex\", \"smoker\", \"region\"], drop_first=True)"
      ]
    },
    {
      "cell_type": "code",
      "execution_count": null,
      "id": "2e904a53-1c03-49c8-9593-7dc60ad5d700",
      "metadata": {
        "id": "2e904a53-1c03-49c8-9593-7dc60ad5d700",
        "outputId": "a7752711-0618-4e47-f5ba-6d691972681e"
      },
      "outputs": [
        {
          "data": {
            "text/html": [
              "<div>\n",
              "<style scoped>\n",
              "    .dataframe tbody tr th:only-of-type {\n",
              "        vertical-align: middle;\n",
              "    }\n",
              "\n",
              "    .dataframe tbody tr th {\n",
              "        vertical-align: top;\n",
              "    }\n",
              "\n",
              "    .dataframe thead th {\n",
              "        text-align: right;\n",
              "    }\n",
              "</style>\n",
              "<table border=\"1\" class=\"dataframe\">\n",
              "  <thead>\n",
              "    <tr style=\"text-align: right;\">\n",
              "      <th></th>\n",
              "      <th>age</th>\n",
              "      <th>bmi</th>\n",
              "      <th>children</th>\n",
              "      <th>charges</th>\n",
              "      <th>sex_male</th>\n",
              "      <th>smoker_yes</th>\n",
              "      <th>region_northwest</th>\n",
              "      <th>region_southeast</th>\n",
              "      <th>region_southwest</th>\n",
              "    </tr>\n",
              "  </thead>\n",
              "  <tbody>\n",
              "    <tr>\n",
              "      <th>0</th>\n",
              "      <td>19</td>\n",
              "      <td>27.900</td>\n",
              "      <td>0</td>\n",
              "      <td>16884.92400</td>\n",
              "      <td>False</td>\n",
              "      <td>True</td>\n",
              "      <td>False</td>\n",
              "      <td>False</td>\n",
              "      <td>True</td>\n",
              "    </tr>\n",
              "    <tr>\n",
              "      <th>1</th>\n",
              "      <td>18</td>\n",
              "      <td>33.770</td>\n",
              "      <td>1</td>\n",
              "      <td>1725.55230</td>\n",
              "      <td>True</td>\n",
              "      <td>False</td>\n",
              "      <td>False</td>\n",
              "      <td>True</td>\n",
              "      <td>False</td>\n",
              "    </tr>\n",
              "    <tr>\n",
              "      <th>2</th>\n",
              "      <td>28</td>\n",
              "      <td>33.000</td>\n",
              "      <td>3</td>\n",
              "      <td>4449.46200</td>\n",
              "      <td>True</td>\n",
              "      <td>False</td>\n",
              "      <td>False</td>\n",
              "      <td>True</td>\n",
              "      <td>False</td>\n",
              "    </tr>\n",
              "    <tr>\n",
              "      <th>3</th>\n",
              "      <td>33</td>\n",
              "      <td>22.705</td>\n",
              "      <td>0</td>\n",
              "      <td>21984.47061</td>\n",
              "      <td>True</td>\n",
              "      <td>False</td>\n",
              "      <td>True</td>\n",
              "      <td>False</td>\n",
              "      <td>False</td>\n",
              "    </tr>\n",
              "    <tr>\n",
              "      <th>4</th>\n",
              "      <td>32</td>\n",
              "      <td>28.880</td>\n",
              "      <td>0</td>\n",
              "      <td>3866.85520</td>\n",
              "      <td>True</td>\n",
              "      <td>False</td>\n",
              "      <td>True</td>\n",
              "      <td>False</td>\n",
              "      <td>False</td>\n",
              "    </tr>\n",
              "  </tbody>\n",
              "</table>\n",
              "</div>"
            ],
            "text/plain": [
              "   age     bmi  children      charges  sex_male  smoker_yes  region_northwest  \\\n",
              "0   19  27.900         0  16884.92400     False        True             False   \n",
              "1   18  33.770         1   1725.55230      True       False             False   \n",
              "2   28  33.000         3   4449.46200      True       False             False   \n",
              "3   33  22.705         0  21984.47061      True       False              True   \n",
              "4   32  28.880         0   3866.85520      True       False              True   \n",
              "\n",
              "   region_southeast  region_southwest  \n",
              "0             False              True  \n",
              "1              True             False  \n",
              "2              True             False  \n",
              "3             False             False  \n",
              "4             False             False  "
            ]
          },
          "execution_count": 19,
          "metadata": {},
          "output_type": "execute_result"
        }
      ],
      "source": [
        "df.head()"
      ]
    },
    {
      "cell_type": "code",
      "execution_count": null,
      "id": "abce20d4-c031-448d-8e6b-54252fae619a",
      "metadata": {
        "id": "abce20d4-c031-448d-8e6b-54252fae619a"
      },
      "outputs": [],
      "source": [
        "# Standardize numerical features\n",
        "scaler = StandardScaler()\n",
        "numerical_features = [\"age\", \"bmi\", \"children\"]\n",
        "df[numerical_features] = scaler.fit_transform(df[numerical_features])"
      ]
    },
    {
      "cell_type": "code",
      "execution_count": null,
      "id": "067582bf-9ff4-4463-96c2-9772e1d71d39",
      "metadata": {
        "id": "067582bf-9ff4-4463-96c2-9772e1d71d39"
      },
      "outputs": [],
      "source": [
        "# Split features and target\n",
        "X = df.drop(\"charges\", axis=1)\n",
        "y = df[\"charges\"]"
      ]
    },
    {
      "cell_type": "code",
      "execution_count": null,
      "id": "a2ab6333-afca-4f97-b6cc-90e8472a1d4f",
      "metadata": {
        "id": "a2ab6333-afca-4f97-b6cc-90e8472a1d4f"
      },
      "outputs": [],
      "source": [
        "# Select top 2 features based on f_regression\n",
        "select_k = SelectKBest(score_func=f_regression, k=2)\n",
        "X_new = select_k.fit_transform(X, y)"
      ]
    },
    {
      "cell_type": "code",
      "execution_count": null,
      "id": "4dab02ba-5c94-4c67-8b25-62c5ed78a977",
      "metadata": {
        "id": "4dab02ba-5c94-4c67-8b25-62c5ed78a977",
        "outputId": "37901f62-a358-439e-f16b-dcf71d8f9841"
      },
      "outputs": [
        {
          "name": "stdout",
          "output_type": "stream",
          "text": [
            "Selected Features: ['age', 'smoker_yes']\n"
          ]
        }
      ],
      "source": [
        "# Get selected feature names\n",
        "selected_features = X.columns[select_k.get_support()]\n",
        "print(\"Selected Features:\", list(selected_features))"
      ]
    },
    {
      "cell_type": "code",
      "execution_count": null,
      "id": "737e07b9-6087-4fd0-9be9-ac4e1fa6df24",
      "metadata": {
        "id": "737e07b9-6087-4fd0-9be9-ac4e1fa6df24"
      },
      "outputs": [],
      "source": [
        "# Update X with selected features\n",
        "X = X[selected_features]"
      ]
    },
    {
      "cell_type": "code",
      "execution_count": null,
      "id": "a1894baf-c60f-4f61-8482-0349b18c0acd",
      "metadata": {
        "id": "a1894baf-c60f-4f61-8482-0349b18c0acd"
      },
      "outputs": [],
      "source": [
        "# Train-Test Split\n",
        "X_train, X_test, y_train, y_test = train_test_split(X, y, test_size=0.2, random_state=42)\n"
      ]
    },
    {
      "cell_type": "code",
      "execution_count": null,
      "id": "957dad23-1c14-4e6e-9d4b-61b95c11a79d",
      "metadata": {
        "id": "957dad23-1c14-4e6e-9d4b-61b95c11a79d"
      },
      "outputs": [],
      "source": [
        "# Model Training and Cross-Validation\n",
        "models = {\n",
        "    \"Linear Regression\": LinearRegression(),\n",
        "    \"Decision Tree\": DecisionTreeRegressor(random_state=42),\n",
        "    \"Random Forest\": RandomForestRegressor(random_state=42, n_estimators=100),\n",
        "}"
      ]
    },
    {
      "cell_type": "code",
      "execution_count": null,
      "id": "913b6c12-7765-4feb-97b9-9cbb778a580c",
      "metadata": {
        "id": "913b6c12-7765-4feb-97b9-9cbb778a580c",
        "outputId": "36bb4ddb-e317-4f3c-8414-61608ceb2a35"
      },
      "outputs": [
        {
          "name": "stdout",
          "output_type": "stream",
          "text": [
            "Linear Regression Cross-Validation R² Scores: [0.69927055 0.76958737 0.71196341 0.62431787 0.73192859]\n",
            "Linear Regression Mean R²: 0.7074\n",
            "Decision Tree Cross-Validation R² Scores: [0.65711596 0.74818173 0.47517495 0.57209708 0.62659751]\n",
            "Decision Tree Mean R²: 0.6158\n",
            "Random Forest Cross-Validation R² Scores: [0.65909384 0.76962601 0.56302317 0.5899481  0.64556156]\n",
            "Random Forest Mean R²: 0.6455\n"
          ]
        }
      ],
      "source": [
        "# Cross-Validation\n",
        "for name, model in models.items():\n",
        "    scores = cross_val_score(model, X_train, y_train, cv=5, scoring=\"r2\")\n",
        "    print(f\"{name} Cross-Validation R² Scores: {scores}\")\n",
        "    print(f\"{name} Mean R²: {scores.mean():.4f}\")"
      ]
    },
    {
      "cell_type": "code",
      "execution_count": null,
      "id": "f514e95e-afdc-493a-a37c-91e19c714a03",
      "metadata": {
        "id": "f514e95e-afdc-493a-a37c-91e19c714a03",
        "outputId": "9c7ddd8e-d9d8-468f-ff4f-590a3ae63fec"
      },
      "outputs": [
        {
          "name": "stdout",
          "output_type": "stream",
          "text": [
            "\n",
            "Best Decision Tree Parameters: {'max_depth': 4, 'min_samples_split': 2}\n",
            "Best Random Forest Parameters: {'max_depth': 4, 'min_samples_split': 2, 'n_estimators': 150}\n"
          ]
        }
      ],
      "source": [
        "# Hyperparameter Tuning\n",
        "# GridSearch for Decision Tree\n",
        "dt_params = {\"max_depth\": [2, 4, 6, 8, 10], \"min_samples_split\": [2, 5, 10]}\n",
        "grid_dt = GridSearchCV(DecisionTreeRegressor(random_state=42), dt_params, cv=5, scoring=\"r2\")\n",
        "grid_dt.fit(X_train, y_train)\n",
        "print(\"\\nBest Decision Tree Parameters:\", grid_dt.best_params_)\n",
        "\n",
        "# GridSearch for Random Forest\n",
        "rf_params = {\"n_estimators\": [50, 100, 150], \"max_depth\": [4, 6, 8], \"min_samples_split\": [2, 5]}\n",
        "grid_rf = GridSearchCV(RandomForestRegressor(random_state=42), rf_params, cv=5, scoring=\"r2\")\n",
        "grid_rf.fit(X_train, y_train)\n",
        "print(\"Best Random Forest Parameters:\", grid_rf.best_params_)"
      ]
    },
    {
      "cell_type": "code",
      "execution_count": null,
      "id": "2f3b66a6-5ab6-4b24-9323-fe4972662b0c",
      "metadata": {
        "id": "2f3b66a6-5ab6-4b24-9323-fe4972662b0c"
      },
      "outputs": [],
      "source": [
        "# Model Evaluation\n",
        "def evaluate_model(y_test, y_pred, model_name):\n",
        "    mae = mean_absolute_error(y_test, y_pred)\n",
        "    mse = mean_squared_error(y_test, y_pred)\n",
        "    r2 = r2_score(y_test, y_pred)\n",
        "    print(f\"\\n{model_name} Performance:\")\n",
        "    print(f\"Mean Absolute Error (MAE): {mae:.2f}\")\n",
        "    print(f\"Mean Squared Error (MSE): {mse:.2f}\")\n",
        "    print(f\"R² Score: {r2:.4f}\")"
      ]
    },
    {
      "cell_type": "code",
      "execution_count": null,
      "id": "4a7143ca-31ab-4268-875f-caa9d9b537a3",
      "metadata": {
        "id": "4a7143ca-31ab-4268-875f-caa9d9b537a3"
      },
      "outputs": [],
      "source": [
        "final_models = {\n",
        "    \"Linear Regression\": models[\"Linear Regression\"],\n",
        "    \"Decision Tree\": grid_dt.best_estimator_,\n",
        "    \"Random Forest\": grid_rf.best_estimator_,\n",
        "}\n"
      ]
    },
    {
      "cell_type": "code",
      "execution_count": null,
      "id": "da7ec7b9-4d82-4639-9779-6c31dbdb36ea",
      "metadata": {
        "id": "da7ec7b9-4d82-4639-9779-6c31dbdb36ea",
        "outputId": "bea9b27a-f4c9-4a77-9bf1-0e8636523786"
      },
      "outputs": [
        {
          "name": "stdout",
          "output_type": "stream",
          "text": [
            "\n",
            "Linear Regression Performance:\n",
            "Mean Absolute Error (MAE): 3990.98\n",
            "Mean Squared Error (MSE): 38274699.68\n",
            "R² Score: 0.7535\n",
            "\n",
            "Decision Tree Performance:\n",
            "Mean Absolute Error (MAE): 4019.62\n",
            "Mean Squared Error (MSE): 38316556.38\n",
            "R² Score: 0.7532\n",
            "\n",
            "Random Forest Performance:\n",
            "Mean Absolute Error (MAE): 4037.13\n",
            "Mean Squared Error (MSE): 38817890.98\n",
            "R² Score: 0.7500\n"
          ]
        }
      ],
      "source": [
        "for name, model in final_models.items():\n",
        "    model.fit(X_train, y_train)\n",
        "    y_pred = model.predict(X_test)\n",
        "    evaluate_model(y_test, y_pred, name)"
      ]
    },
    {
      "cell_type": "code",
      "execution_count": null,
      "id": "d1bfbecf-ff87-4d15-914d-143a19b51c58",
      "metadata": {
        "id": "d1bfbecf-ff87-4d15-914d-143a19b51c58",
        "outputId": "e4e24e0d-381f-411b-fc9b-ebccb0d159db"
      },
      "outputs": [
        {
          "data": {
            "image/png": "[encoded data removed]",
            "text/plain": [
              "<Figure size 1000x600 with 1 Axes>"
            ]
          },
          "metadata": {},
          "output_type": "display_data"
        }
      ],
      "source": [
        "if \"Random Forest\" in final_models:\n",
        "    feature_importance = final_models[\"Random Forest\"].feature_importances_\n",
        "    plt.figure(figsize=(10, 6))\n",
        "    sns.barplot(x=feature_importance, y=selected_features)\n",
        "    plt.title(\"Feature Importance - Random Forest\")\n",
        "    plt.xlabel(\"Importance\")\n",
        "    plt.ylabel(\"Features\")\n",
        "    plt.show()"
      ]
    },
    {
      "cell_type": "code",
      "execution_count": null,
      "id": "d5969498-e6fd-4c68-9a04-2bf307f7da73",
      "metadata": {
        "id": "d5969498-e6fd-4c68-9a04-2bf307f7da73",
        "outputId": "6bdad22c-c4fe-4b7d-e4f5-e604f319973e"
      },
      "outputs": [
        {
          "name": "stderr",
          "output_type": "stream",
          "text": [
            "C:\\Users\\91950\\AppData\\Local\\Temp/ipykernel_16352/1441420336.py:3: UserWarning: color is redundantly defined by the 'color' keyword argument and the fmt string \"k--\" (-> color='k'). The keyword argument will take precedence.\n",
            "  plt.plot([y_test.min(), y_test.max()], [y_test.min(), y_test.max()], \"k--\", lw=2, color=\"red\")\n"
          ]
        },
        {
          "data": {
            "image/png": "[encoded data removed]",
            "text/plain": [
              "<Figure size 800x600 with 1 Axes>"
            ]
          },
          "metadata": {},
          "output_type": "display_data"
        }
      ],
      "source": [
        "plt.figure(figsize=(8, 6))\n",
        "plt.scatter(y_test, final_models[\"Random Forest\"].predict(X_test), alpha=0.7, color=\"blue\")\n",
        "plt.plot([y_test.min(), y_test.max()], [y_test.min(), y_test.max()], \"k--\", lw=2, color=\"red\")\n",
        "plt.title(\"Predicted vs Actual\")\n",
        "plt.xlabel(\"Actual Charges\")\n",
        "plt.ylabel(\"Predicted Charges\")\n",
        "plt.show()"
      ]
    }
  ],
  "metadata": {
    "kernelspec": {
      "display_name": "Python 3 (ipykernel)",
      "language": "python",
      "name": "python3"
    },
    "language_info": {
      "codemirror_mode": {
        "name": "ipython",
        "version": 3
      },
      "file_extension": ".py",
      "mimetype": "text/x-python",
      "name": "python",
      "nbconvert_exporter": "python",
      "pygments_lexer": "ipython3",
      "version": "3.11.7"
    },
    "colab": {
      "provenance": []
    }
  },
  "nbformat": 4,
  "nbformat_minor": 5
}